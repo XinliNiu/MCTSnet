{
 "cells": [
  {
   "cell_type": "code",
   "execution_count": 18,
   "metadata": {
    "ExecuteTime": {
     "end_time": "2018-05-14T15:07:24.603666Z",
     "start_time": "2018-05-14T15:07:24.518372Z"
    }
   },
   "outputs": [],
   "source": [
    "%reload_ext autoreload\n",
    "%autoreload 2\n",
    "%matplotlib inline"
   ]
  },
  {
   "cell_type": "code",
   "execution_count": 41,
   "metadata": {
    "ExecuteTime": {
     "end_time": "2018-05-15T18:32:13.538239Z",
     "start_time": "2018-05-15T18:32:13.459572Z"
    },
    "scrolled": true
   },
   "outputs": [
    {
     "data": {
      "text/plain": [
       "torch.Size([1, 96, 6, 7])"
      ]
     },
     "execution_count": 41,
     "metadata": {},
     "output_type": "execute_result"
    }
   ],
   "source": [
    "from wrn import WideResNet, wrn_22\n",
    "\n",
    "import torch\n",
    "inp = torch.tensor(torch.rand(1, 3, 6, 7))\n",
    "\n",
    "WideResNet(num_groups=2, N=2, k=3)(inp).shape\n",
    "# wrn_22()(inp).shape\n",
    "# deResNet(num_groups=3, N=3, num_classes=num_classes, k=6, drop_p=0.)"
   ]
  },
  {
   "cell_type": "code",
   "execution_count": 37,
   "metadata": {
    "ExecuteTime": {
     "end_time": "2018-05-15T18:31:31.075041Z",
     "start_time": "2018-05-15T18:31:31.070720Z"
    }
   },
   "outputs": [],
   "source": [
    "num_groups=2\n",
    "k = 3"
   ]
  },
  {
   "cell_type": "code",
   "execution_count": 40,
   "metadata": {
    "ExecuteTime": {
     "end_time": "2018-05-15T18:32:10.877026Z",
     "start_time": "2018-05-15T18:32:10.869766Z"
    },
    "scrolled": true
   },
   "outputs": [
    {
     "data": {
      "text/plain": [
       "96"
      ]
     },
     "execution_count": 40,
     "metadata": {},
     "output_type": "execute_result"
    }
   ],
   "source": [
    "size = 16*num_groups*k\n",
    "size"
   ]
  },
  {
   "cell_type": "code",
   "execution_count": 24,
   "metadata": {
    "ExecuteTime": {
     "end_time": "2018-05-14T16:01:02.666964Z",
     "start_time": "2018-05-14T16:01:02.594043Z"
    }
   },
   "outputs": [],
   "source": [
    "from torch import nn"
   ]
  },
  {
   "cell_type": "code",
   "execution_count": 2,
   "metadata": {
    "ExecuteTime": {
     "end_time": "2018-05-14T17:36:16.148681Z",
     "start_time": "2018-05-14T17:36:11.088168Z"
    }
   },
   "outputs": [],
   "source": [
    "import torch"
   ]
  },
  {
   "cell_type": "code",
   "execution_count": 3,
   "metadata": {
    "ExecuteTime": {
     "end_time": "2018-05-14T17:36:23.204285Z",
     "start_time": "2018-05-14T17:36:22.809768Z"
    }
   },
   "outputs": [
    {
     "data": {
      "text/plain": [
       "tensor([[ 0.6645,  0.5158,  0.5007,  0.1202,  0.4224],\n",
       "        [ 0.5793,  0.5920,  0.2700,  0.3665,  0.6320],\n",
       "        [ 0.3844,  0.9483,  0.5919,  0.4428,  0.5925],\n",
       "        [ 0.9793,  0.3358,  0.3801,  0.1989,  0.1632],\n",
       "        [ 0.3007,  0.9616,  0.1038,  0.9049,  0.4348]])"
      ]
     },
     "execution_count": 3,
     "metadata": {},
     "output_type": "execute_result"
    }
   ],
   "source": [
    "torch.rand_like(torch.rand(5, 5))"
   ]
  }
 ],
 "metadata": {
  "kernelspec": {
   "display_name": "Python 3",
   "language": "python",
   "name": "python3"
  },
  "language_info": {
   "codemirror_mode": {
    "name": "ipython",
    "version": 3
   },
   "file_extension": ".py",
   "mimetype": "text/x-python",
   "name": "python",
   "nbconvert_exporter": "python",
   "pygments_lexer": "ipython3",
   "version": "3.6.3"
  },
  "toc": {
   "nav_menu": {},
   "number_sections": true,
   "sideBar": true,
   "skip_h1_title": false,
   "toc_cell": false,
   "toc_position": {},
   "toc_section_display": "block",
   "toc_window_display": false
  }
 },
 "nbformat": 4,
 "nbformat_minor": 2
}
